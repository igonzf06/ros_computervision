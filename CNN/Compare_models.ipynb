{
 "cells": [
  {
   "cell_type": "code",
   "execution_count": 22,
   "id": "5aa26705",
   "metadata": {},
   "outputs": [],
   "source": [
    "import os\n",
    "import cv2\n",
    "import numpy as np\n",
    "import matplotlib.cm as cm\n",
    "import tensorflow as tf\n",
    "import random\n",
    "import PIL\n",
    "from PIL import Image, ImageOps\n",
    "import scipy\n",
    "from tensorflow.keras.preprocessing.image import ImageDataGenerator\n",
    "from tensorflow.keras.preprocessing import image\n",
    "from tensorflow.keras.applications import imagenet_utils\n",
    "from tensorflow.keras.applications import vgg16\n",
    "from tensorflow.keras.applications import ResNet152\n",
    "from tensorflow.keras.applications import inception_v3\n",
    "from tensorflow.keras.applications import mobilenet\n",
    "from tensorflow.keras.optimizers import Adam, SGD\n",
    "from tensorflow.keras.metrics import categorical_crossentropy\n",
    "\n",
    "from sklearn.metrics import confusion_matrix\n",
    "import itertools\n",
    "import matplotlib.pyplot as plt\n",
    "import splitfolders\n",
    "%matplotlib inline"
   ]
  },
  {
   "cell_type": "code",
   "execution_count": 23,
   "id": "49f91d89",
   "metadata": {},
   "outputs": [
    {
     "data": {
      "text/plain": [
       "['baño', 'exterior', 'zonas_comunes', 'zona_comercial', 'cocina', 'habitación']"
      ]
     },
     "execution_count": 23,
     "metadata": {},
     "output_type": "execute_result"
    }
   ],
   "source": [
    "os.listdir(f'rooms_dataset/train')  # Directory where training data folders are"
   ]
  },
  {
   "cell_type": "code",
   "execution_count": 43,
   "id": "51f26424",
   "metadata": {},
   "outputs": [
    {
     "name": "stdout",
     "output_type": "stream",
     "text": [
      "6\n"
     ]
    }
   ],
   "source": [
    "num_classes = len(os.listdir(f'rooms_dataset/train'))\n",
    "dataset_dir =\"rooms_dataset\"\n",
    "target_size = (224, 244) #vgg16, resnet152, mobilenet\n",
    "#target_size = (299, 299) #inceptionv3\n",
    "batch_size = 32  # Training batch size\n",
    "print(num_classes)"
   ]
  },
  {
   "cell_type": "code",
   "execution_count": 44,
   "id": "d269a555",
   "metadata": {},
   "outputs": [
    {
     "name": "stdout",
     "output_type": "stream",
     "text": [
      "Found 815 images belonging to 6 classes.\n",
      "Found 206 images belonging to 6 classes.\n"
     ]
    }
   ],
   "source": [
    "from tensorflow.keras.preprocessing.image import ImageDataGenerator\n",
    "\n",
    "# preprocessing image and divide validaiton set\n",
    "train_datagen = ImageDataGenerator(horizontal_flip=True, \n",
    "                                   brightness_range=[0.5,1.5], \n",
    "                                   zoom_range=[0.3,1], \n",
    "                                   rotation_range=5)\n",
    "\n",
    "train_generator = train_datagen.flow_from_directory(dataset_dir+'/train',\n",
    "                                                 target_size=target_size,\n",
    "                                                 batch_size=batch_size,\n",
    "                                                 class_mode='categorical',\n",
    "                                                 shuffle=True,\n",
    "                                                 subset='training')\n",
    "\n",
    "validation_datagen = ImageDataGenerator()\n",
    "\n",
    "validation_generator = validation_datagen.flow_from_directory(dataset_dir+'/val',\n",
    "                                                            target_size=target_size,\n",
    "                                                            batch_size=batch_size,\n",
    "                                                            class_mode='categorical')\n"
   ]
  },
  {
   "cell_type": "code",
   "execution_count": 45,
   "id": "54a91b96",
   "metadata": {},
   "outputs": [
    {
     "name": "stdout",
     "output_type": "stream",
     "text": [
      "{'baño': 0, 'cocina': 1, 'exterior': 2, 'habitación': 3, 'zona_comercial': 4, 'zonas_comunes': 5}\n"
     ]
    }
   ],
   "source": [
    "classes = train_generator.class_indices\n",
    "print(classes)"
   ]
  },
  {
   "cell_type": "code",
   "execution_count": 46,
   "id": "573fa7df",
   "metadata": {},
   "outputs": [],
   "source": [
    "class_names = list(classes.keys())"
   ]
  },
  {
   "cell_type": "code",
   "execution_count": 47,
   "id": "b3e03ba0",
   "metadata": {},
   "outputs": [],
   "source": [
    "import math\n",
    "from tensorflow.keras.callbacks import Callback, ModelCheckpoint, EarlyStopping\n",
    "from tensorflow.keras import backend as K\n",
    "\n",
    "early_stop = EarlyStopping(monitor='val_loss',\n",
    "                           patience=30,\n",
    "                           restore_best_weights=True,\n",
    "                           mode='min')\n",
    "\n",
    "checkpoint = ModelCheckpoint('logs/ep{epoch:03}-val_loss{val_loss:.3f}.h5', monitor='val_loss',save_best_only=True, verbose=1)"
   ]
  },
  {
   "cell_type": "markdown",
   "id": "9a6aaf7d",
   "metadata": {},
   "source": [
    "### VGG16"
   ]
  },
  {
   "cell_type": "code",
   "execution_count": 48,
   "id": "3ecf67a3",
   "metadata": {},
   "outputs": [
    {
     "name": "stdout",
     "output_type": "stream",
     "text": [
      "Model: \"vgg16\"\n",
      "_________________________________________________________________\n",
      " Layer (type)                Output Shape              Param #   \n",
      "=================================================================\n",
      " input_7 (InputLayer)        [(None, 224, 224, 3)]     0         \n",
      "                                                                 \n",
      " block1_conv1 (Conv2D)       (None, 224, 224, 64)      1792      \n",
      "                                                                 \n",
      " block1_conv2 (Conv2D)       (None, 224, 224, 64)      36928     \n",
      "                                                                 \n",
      " block1_pool (MaxPooling2D)  (None, 112, 112, 64)      0         \n",
      "                                                                 \n",
      " block2_conv1 (Conv2D)       (None, 112, 112, 128)     73856     \n",
      "                                                                 \n",
      " block2_conv2 (Conv2D)       (None, 112, 112, 128)     147584    \n",
      "                                                                 \n",
      " block2_pool (MaxPooling2D)  (None, 56, 56, 128)       0         \n",
      "                                                                 \n",
      " block3_conv1 (Conv2D)       (None, 56, 56, 256)       295168    \n",
      "                                                                 \n",
      " block3_conv2 (Conv2D)       (None, 56, 56, 256)       590080    \n",
      "                                                                 \n",
      " block3_conv3 (Conv2D)       (None, 56, 56, 256)       590080    \n",
      "                                                                 \n",
      " block3_pool (MaxPooling2D)  (None, 28, 28, 256)       0         \n",
      "                                                                 \n",
      " block4_conv1 (Conv2D)       (None, 28, 28, 512)       1180160   \n",
      "                                                                 \n",
      " block4_conv2 (Conv2D)       (None, 28, 28, 512)       2359808   \n",
      "                                                                 \n",
      " block4_conv3 (Conv2D)       (None, 28, 28, 512)       2359808   \n",
      "                                                                 \n",
      " block4_pool (MaxPooling2D)  (None, 14, 14, 512)       0         \n",
      "                                                                 \n",
      " block5_conv1 (Conv2D)       (None, 14, 14, 512)       2359808   \n",
      "                                                                 \n",
      " block5_conv2 (Conv2D)       (None, 14, 14, 512)       2359808   \n",
      "                                                                 \n",
      " block5_conv3 (Conv2D)       (None, 14, 14, 512)       2359808   \n",
      "                                                                 \n",
      " block5_pool (MaxPooling2D)  (None, 7, 7, 512)         0         \n",
      "                                                                 \n",
      "=================================================================\n",
      "Total params: 14,714,688\n",
      "Trainable params: 14,714,688\n",
      "Non-trainable params: 0\n",
      "_________________________________________________________________\n"
     ]
    }
   ],
   "source": [
    "vgg16_model = vgg16.VGG16(weights = 'imagenet' , include_top=False, input_shape = (224, 224, 3))\n",
    "vgg16_model.summary()"
   ]
  },
  {
   "cell_type": "code",
   "execution_count": 49,
   "id": "7debcf5e",
   "metadata": {},
   "outputs": [
    {
     "name": "stdout",
     "output_type": "stream",
     "text": [
      "Model: \"vgg16\"\n",
      "_________________________________________________________________\n",
      " Layer (type)                Output Shape              Param #   \n",
      "=================================================================\n",
      " input_7 (InputLayer)        [(None, 224, 224, 3)]     0         \n",
      "                                                                 \n",
      " block1_conv1 (Conv2D)       (None, 224, 224, 64)      1792      \n",
      "                                                                 \n",
      " block1_conv2 (Conv2D)       (None, 224, 224, 64)      36928     \n",
      "                                                                 \n",
      " block1_pool (MaxPooling2D)  (None, 112, 112, 64)      0         \n",
      "                                                                 \n",
      " block2_conv1 (Conv2D)       (None, 112, 112, 128)     73856     \n",
      "                                                                 \n",
      " block2_conv2 (Conv2D)       (None, 112, 112, 128)     147584    \n",
      "                                                                 \n",
      " block2_pool (MaxPooling2D)  (None, 56, 56, 128)       0         \n",
      "                                                                 \n",
      " block3_conv1 (Conv2D)       (None, 56, 56, 256)       295168    \n",
      "                                                                 \n",
      " block3_conv2 (Conv2D)       (None, 56, 56, 256)       590080    \n",
      "                                                                 \n",
      " block3_conv3 (Conv2D)       (None, 56, 56, 256)       590080    \n",
      "                                                                 \n",
      " block3_pool (MaxPooling2D)  (None, 28, 28, 256)       0         \n",
      "                                                                 \n",
      " block4_conv1 (Conv2D)       (None, 28, 28, 512)       1180160   \n",
      "                                                                 \n",
      " block4_conv2 (Conv2D)       (None, 28, 28, 512)       2359808   \n",
      "                                                                 \n",
      " block4_conv3 (Conv2D)       (None, 28, 28, 512)       2359808   \n",
      "                                                                 \n",
      " block4_pool (MaxPooling2D)  (None, 14, 14, 512)       0         \n",
      "                                                                 \n",
      " block5_conv1 (Conv2D)       (None, 14, 14, 512)       2359808   \n",
      "                                                                 \n",
      " block5_conv2 (Conv2D)       (None, 14, 14, 512)       2359808   \n",
      "                                                                 \n",
      " block5_conv3 (Conv2D)       (None, 14, 14, 512)       2359808   \n",
      "                                                                 \n",
      " block5_pool (MaxPooling2D)  (None, 7, 7, 512)         0         \n",
      "                                                                 \n",
      "=================================================================\n",
      "Total params: 14,714,688\n",
      "Trainable params: 0\n",
      "Non-trainable params: 14,714,688\n",
      "_________________________________________________________________\n"
     ]
    }
   ],
   "source": [
    "# iterate through its layers and lock them to make them not trainable with this code\n",
    "for layer in vgg16_model.layers:\n",
    "    layer.trainable = False\n",
    "\n",
    "#if fine_tune es decir cuantas capas quieres reentrenar\n",
    "# for layer in base_model.layers[:-fine_tune]:\n",
    "# layer.traineble = False\n",
    "\n",
    "vgg16_model.summary()"
   ]
  },
  {
   "cell_type": "code",
   "execution_count": 50,
   "id": "1ff31e0b",
   "metadata": {},
   "outputs": [
    {
     "name": "stdout",
     "output_type": "stream",
     "text": [
      "Model: \"model_3\"\n",
      "_________________________________________________________________\n",
      " Layer (type)                Output Shape              Param #   \n",
      "=================================================================\n",
      " input_7 (InputLayer)        [(None, 224, 224, 3)]     0         \n",
      "                                                                 \n",
      " block1_conv1 (Conv2D)       (None, 224, 224, 64)      1792      \n",
      "                                                                 \n",
      " block1_conv2 (Conv2D)       (None, 224, 224, 64)      36928     \n",
      "                                                                 \n",
      " block1_pool (MaxPooling2D)  (None, 112, 112, 64)      0         \n",
      "                                                                 \n",
      " block2_conv1 (Conv2D)       (None, 112, 112, 128)     73856     \n",
      "                                                                 \n",
      " block2_conv2 (Conv2D)       (None, 112, 112, 128)     147584    \n",
      "                                                                 \n",
      " block2_pool (MaxPooling2D)  (None, 56, 56, 128)       0         \n",
      "                                                                 \n",
      " block3_conv1 (Conv2D)       (None, 56, 56, 256)       295168    \n",
      "                                                                 \n",
      " block3_conv2 (Conv2D)       (None, 56, 56, 256)       590080    \n",
      "                                                                 \n",
      " block3_conv3 (Conv2D)       (None, 56, 56, 256)       590080    \n",
      "                                                                 \n",
      " block3_pool (MaxPooling2D)  (None, 28, 28, 256)       0         \n",
      "                                                                 \n",
      " block4_conv1 (Conv2D)       (None, 28, 28, 512)       1180160   \n",
      "                                                                 \n",
      " block4_conv2 (Conv2D)       (None, 28, 28, 512)       2359808   \n",
      "                                                                 \n",
      " block4_conv3 (Conv2D)       (None, 28, 28, 512)       2359808   \n",
      "                                                                 \n",
      " block4_pool (MaxPooling2D)  (None, 14, 14, 512)       0         \n",
      "                                                                 \n",
      " block5_conv1 (Conv2D)       (None, 14, 14, 512)       2359808   \n",
      "                                                                 \n",
      " block5_conv2 (Conv2D)       (None, 14, 14, 512)       2359808   \n",
      "                                                                 \n",
      " block5_conv3 (Conv2D)       (None, 14, 14, 512)       2359808   \n",
      "                                                                 \n",
      " block5_pool (MaxPooling2D)  (None, 7, 7, 512)         0         \n",
      "                                                                 \n",
      " flatten (Flatten)           (None, 25088)             0         \n",
      "                                                                 \n",
      " softmax (Dense)             (None, 6)                 150534    \n",
      "                                                                 \n",
      "=================================================================\n",
      "Total params: 14,865,222\n",
      "Trainable params: 150,534\n",
      "Non-trainable params: 14,714,688\n",
      "_________________________________________________________________\n"
     ]
    }
   ],
   "source": [
    "from tensorflow.keras.layers import Dense, Flatten, Dropout, BatchNormalization\n",
    "from tensorflow.keras.models import Model\n",
    "\n",
    "# save the output of the last layer to be the input of the next layer\n",
    "last_layer = vgg16_model.output\n",
    "\n",
    "# flatten the classifier input which is output of the last layer of VGG16 model\n",
    "x = Flatten(name=\"flatten\")(last_layer)\n",
    "#x = Dense(50, activation='relu')(x)\n",
    "#x = Dense(30, activation='relu')(x)\n",
    "x = Dense(num_classes, activation='softmax', name='softmax')(x)\n",
    "\n",
    "# instantiate a new_model using keras’s Model class\n",
    "new_vgg16_model = Model(inputs=vgg16_model.input, outputs=x)\n",
    "\n",
    "# print the new_model summary\n",
    "new_vgg16_model.summary()\n"
   ]
  },
  {
   "cell_type": "code",
   "execution_count": 51,
   "id": "cafe5052",
   "metadata": {},
   "outputs": [],
   "source": [
    "new_vgg16_model.compile(optimizer='adam', loss='categorical_crossentropy', metrics=['accuracy'])"
   ]
  },
  {
   "cell_type": "code",
   "execution_count": 52,
   "id": "547dd5bb",
   "metadata": {},
   "outputs": [
    {
     "name": "stdout",
     "output_type": "stream",
     "text": [
      "Epoch 1/100\n",
      "\n",
      "Epoch 1: val_loss improved from inf to 5.71866, saving model to logs/ep001-val_loss5.719.h5\n",
      "26/26 - 200s - loss: 7.0722 - accuracy: 0.6160 - val_loss: 5.7187 - val_accuracy: 0.7718 - 200s/epoch - 8s/step\n",
      "Epoch 2/100\n",
      "\n",
      "Epoch 2: val_loss improved from 5.71866 to 3.92393, saving model to logs/ep002-val_loss3.924.h5\n",
      "26/26 - 184s - loss: 4.0609 - accuracy: 0.7939 - val_loss: 3.9239 - val_accuracy: 0.8155 - 184s/epoch - 7s/step\n",
      "Epoch 3/100\n",
      "\n",
      "Epoch 3: val_loss did not improve from 3.92393\n",
      "26/26 - 177s - loss: 2.6715 - accuracy: 0.8429 - val_loss: 4.0404 - val_accuracy: 0.8350 - 177s/epoch - 7s/step\n",
      "Epoch 4/100\n",
      "\n",
      "Epoch 4: val_loss did not improve from 3.92393\n",
      "26/26 - 199s - loss: 2.1347 - accuracy: 0.8675 - val_loss: 6.9158 - val_accuracy: 0.7961 - 199s/epoch - 8s/step\n",
      "Epoch 5/100\n",
      "\n",
      "Epoch 5: val_loss did not improve from 3.92393\n",
      "26/26 - 190s - loss: 2.5164 - accuracy: 0.8724 - val_loss: 4.3144 - val_accuracy: 0.8447 - 190s/epoch - 7s/step\n",
      "Epoch 6/100\n",
      "\n",
      "Epoch 6: val_loss did not improve from 3.92393\n",
      "26/26 - 196s - loss: 2.3363 - accuracy: 0.8871 - val_loss: 4.5479 - val_accuracy: 0.8689 - 196s/epoch - 8s/step\n",
      "Epoch 7/100\n",
      "\n",
      "Epoch 7: val_loss did not improve from 3.92393\n",
      "26/26 - 195s - loss: 1.8113 - accuracy: 0.9006 - val_loss: 5.3807 - val_accuracy: 0.8204 - 195s/epoch - 8s/step\n",
      "Epoch 8/100\n",
      "\n",
      "Epoch 8: val_loss did not improve from 3.92393\n",
      "26/26 - 191s - loss: 2.0244 - accuracy: 0.8908 - val_loss: 4.0639 - val_accuracy: 0.8641 - 191s/epoch - 7s/step\n",
      "Epoch 9/100\n",
      "\n",
      "Epoch 9: val_loss did not improve from 3.92393\n",
      "26/26 - 180s - loss: 1.7424 - accuracy: 0.8982 - val_loss: 5.2360 - val_accuracy: 0.8738 - 180s/epoch - 7s/step\n",
      "Epoch 10/100\n",
      "\n",
      "Epoch 10: val_loss did not improve from 3.92393\n",
      "26/26 - 180s - loss: 2.0478 - accuracy: 0.8957 - val_loss: 5.1773 - val_accuracy: 0.8350 - 180s/epoch - 7s/step\n",
      "Epoch 11/100\n",
      "\n",
      "Epoch 11: val_loss did not improve from 3.92393\n",
      "26/26 - 180s - loss: 1.9890 - accuracy: 0.9141 - val_loss: 4.7440 - val_accuracy: 0.8641 - 180s/epoch - 7s/step\n",
      "Epoch 12/100\n",
      "\n",
      "Epoch 12: val_loss did not improve from 3.92393\n",
      "26/26 - 183s - loss: 1.4780 - accuracy: 0.9141 - val_loss: 5.1595 - val_accuracy: 0.8592 - 183s/epoch - 7s/step\n",
      "Epoch 13/100\n",
      "\n",
      "Epoch 13: val_loss did not improve from 3.92393\n",
      "26/26 - 204s - loss: 1.2695 - accuracy: 0.9436 - val_loss: 5.2639 - val_accuracy: 0.8981 - 204s/epoch - 8s/step\n",
      "Epoch 14/100\n",
      "\n",
      "Epoch 14: val_loss did not improve from 3.92393\n",
      "26/26 - 203s - loss: 1.3263 - accuracy: 0.9399 - val_loss: 5.1642 - val_accuracy: 0.8883 - 203s/epoch - 8s/step\n",
      "Epoch 15/100\n",
      "\n",
      "Epoch 15: val_loss did not improve from 3.92393\n",
      "26/26 - 195s - loss: 1.0721 - accuracy: 0.9325 - val_loss: 6.0192 - val_accuracy: 0.8786 - 195s/epoch - 8s/step\n",
      "Epoch 16/100\n",
      "\n",
      "Epoch 16: val_loss did not improve from 3.92393\n",
      "26/26 - 180s - loss: 1.5880 - accuracy: 0.9190 - val_loss: 5.9876 - val_accuracy: 0.8641 - 180s/epoch - 7s/step\n",
      "Epoch 17/100\n",
      "\n",
      "Epoch 17: val_loss did not improve from 3.92393\n",
      "26/26 - 181s - loss: 1.4748 - accuracy: 0.9190 - val_loss: 6.0729 - val_accuracy: 0.8786 - 181s/epoch - 7s/step\n",
      "Epoch 18/100\n",
      "\n",
      "Epoch 18: val_loss did not improve from 3.92393\n",
      "26/26 - 181s - loss: 1.3692 - accuracy: 0.9239 - val_loss: 5.9173 - val_accuracy: 0.8835 - 181s/epoch - 7s/step\n",
      "Epoch 19/100\n",
      "\n",
      "Epoch 19: val_loss did not improve from 3.92393\n",
      "26/26 - 180s - loss: 1.1470 - accuracy: 0.9411 - val_loss: 6.2307 - val_accuracy: 0.8689 - 180s/epoch - 7s/step\n",
      "Epoch 20/100\n",
      "\n",
      "Epoch 20: val_loss did not improve from 3.92393\n",
      "26/26 - 180s - loss: 0.7471 - accuracy: 0.9509 - val_loss: 5.9464 - val_accuracy: 0.8786 - 180s/epoch - 7s/step\n",
      "Epoch 21/100\n",
      "\n",
      "Epoch 21: val_loss did not improve from 3.92393\n",
      "26/26 - 179s - loss: 0.7332 - accuracy: 0.9546 - val_loss: 5.5916 - val_accuracy: 0.8883 - 179s/epoch - 7s/step\n",
      "Epoch 22/100\n",
      "\n",
      "Epoch 22: val_loss did not improve from 3.92393\n",
      "26/26 - 182s - loss: 0.6810 - accuracy: 0.9558 - val_loss: 5.2153 - val_accuracy: 0.9029 - 182s/epoch - 7s/step\n",
      "Epoch 23/100\n",
      "\n",
      "Epoch 23: val_loss did not improve from 3.92393\n",
      "26/26 - 191s - loss: 0.6326 - accuracy: 0.9669 - val_loss: 5.1786 - val_accuracy: 0.8932 - 191s/epoch - 7s/step\n",
      "Epoch 24/100\n",
      "\n",
      "Epoch 24: val_loss did not improve from 3.92393\n",
      "26/26 - 192s - loss: 1.0937 - accuracy: 0.9411 - val_loss: 5.3534 - val_accuracy: 0.9126 - 192s/epoch - 7s/step\n",
      "Epoch 25/100\n",
      "\n",
      "Epoch 25: val_loss did not improve from 3.92393\n",
      "26/26 - 183s - loss: 1.5390 - accuracy: 0.9387 - val_loss: 6.2489 - val_accuracy: 0.8835 - 183s/epoch - 7s/step\n",
      "Epoch 26/100\n",
      "\n",
      "Epoch 26: val_loss did not improve from 3.92393\n",
      "26/26 - 179s - loss: 1.1422 - accuracy: 0.9521 - val_loss: 5.8064 - val_accuracy: 0.8689 - 179s/epoch - 7s/step\n",
      "Epoch 27/100\n",
      "\n",
      "Epoch 27: val_loss did not improve from 3.92393\n",
      "26/26 - 179s - loss: 0.8929 - accuracy: 0.9558 - val_loss: 7.3483 - val_accuracy: 0.8592 - 179s/epoch - 7s/step\n",
      "Epoch 28/100\n",
      "\n",
      "Epoch 28: val_loss did not improve from 3.92393\n",
      "26/26 - 179s - loss: 0.8604 - accuracy: 0.9620 - val_loss: 6.6183 - val_accuracy: 0.8883 - 179s/epoch - 7s/step\n",
      "Epoch 29/100\n",
      "\n",
      "Epoch 29: val_loss did not improve from 3.92393\n",
      "26/26 - 179s - loss: 0.6406 - accuracy: 0.9644 - val_loss: 7.7859 - val_accuracy: 0.8738 - 179s/epoch - 7s/step\n",
      "Epoch 30/100\n",
      "\n",
      "Epoch 30: val_loss did not improve from 3.92393\n",
      "26/26 - 179s - loss: 1.5187 - accuracy: 0.9472 - val_loss: 9.4918 - val_accuracy: 0.8592 - 179s/epoch - 7s/step\n",
      "Epoch 31/100\n",
      "\n",
      "Epoch 31: val_loss did not improve from 3.92393\n",
      "26/26 - 179s - loss: 1.3237 - accuracy: 0.9472 - val_loss: 7.8953 - val_accuracy: 0.8592 - 179s/epoch - 7s/step\n",
      "Epoch 32/100\n",
      "\n",
      "Epoch 32: val_loss did not improve from 3.92393\n",
      "26/26 - 189s - loss: 1.0854 - accuracy: 0.9497 - val_loss: 6.8979 - val_accuracy: 0.8738 - 189s/epoch - 7s/step\n"
     ]
    }
   ],
   "source": [
    "history_vgg16 = new_vgg16_model.fit(train_generator, batch_size=batch_size, validation_data=validation_generator, epochs=100, verbose=2, callbacks=[checkpoint, early_stop])"
   ]
  },
  {
   "cell_type": "code",
   "execution_count": 54,
   "id": "7806c9e9",
   "metadata": {},
   "outputs": [
    {
     "data": {
      "image/png": "[encoded data removed]",
      "text/plain": [
       "<Figure size 432x288 with 1 Axes>"
      ]
     },
     "metadata": {
      "needs_background": "light"
     },
     "output_type": "display_data"
    },
    {
     "data": {
      "image/png": "[encoded data removed]",
      "text/plain": [
       "<Figure size 432x288 with 1 Axes>"
      ]
     },
     "metadata": {
      "needs_background": "light"
     },
     "output_type": "display_data"
    }
   ],
   "source": [
    "plt.plot(history_vgg16.history['accuracy'])\n",
    "plt.plot(history_vgg16.history['val_accuracy'])\n",
    "plt.title('VGG16+Imagenet Model accuracy')\n",
    "plt.ylabel('Accuracy')\n",
    "plt.xlabel('Epoch')\n",
    "plt.legend(['Train', 'Test'], loc='upper left')\n",
    "plt.show()\n",
    "\n",
    "plt.plot(history_vgg16.history['loss'])\n",
    "plt.plot(history_vgg16.history['val_loss'])\n",
    "plt.title('VGG16+Imagenet Model loss')\n",
    "plt.ylabel('Loss')\n",
    "plt.xlabel('Epoch')\n",
    "plt.legend(['Train', 'Test'], loc='upper left')\n",
    "plt.show()"
   ]
  },
  {
   "cell_type": "code",
   "execution_count": 55,
   "id": "e7f59014",
   "metadata": {},
   "outputs": [
    {
     "name": "stdout",
     "output_type": "stream",
     "text": [
      "7/7 [==============================] - 36s 5s/step - loss: 3.9239 - accuracy: 0.8155\n",
      "Accuracy:  0.8155339956283569\n",
      "Loss:  3.923933506011963\n"
     ]
    }
   ],
   "source": [
    "x, y = zip(*(validation_generator[i] for i in range(len(validation_generator))))\n",
    "x_test, y_test = np.vstack(x), np.vstack(y)\n",
    "loss, acc = new_vgg16_model.evaluate(x_test, y_test, batch_size=32)\n",
    "\n",
    "print(\"Accuracy: \" ,acc)\n",
    "print(\"Loss: \", loss)"
   ]
  },
  {
   "cell_type": "markdown",
   "id": "0ac78714",
   "metadata": {},
   "source": [
    "### VGG16 + Places365"
   ]
  },
  {
   "cell_type": "code",
   "execution_count": 56,
   "id": "7277f8e4",
   "metadata": {},
   "outputs": [],
   "source": [
    "#Get the places356 weights\n",
    "weights_file = 'vgg16-places365_weights_tf_dim_ordering_tf_kernels_notop.h5'\n",
    "weights_path = tf.keras.utils.get_file(weights_file, 'https://github.com/GKalliatakis/Keras-VGG16-places365/releases/download/v1.0/vgg16-places365_weights_tf_dim_ordering_tf_kernels_notop.h5')"
   ]
  },
  {
   "cell_type": "code",
   "execution_count": 58,
   "id": "61db6c28",
   "metadata": {},
   "outputs": [
    {
     "name": "stdout",
     "output_type": "stream",
     "text": [
      "Model: \"vgg16\"\n",
      "_________________________________________________________________\n",
      " Layer (type)                Output Shape              Param #   \n",
      "=================================================================\n",
      " input_9 (InputLayer)        [(None, 224, 224, 3)]     0         \n",
      "                                                                 \n",
      " block1_conv1 (Conv2D)       (None, 224, 224, 64)      1792      \n",
      "                                                                 \n",
      " block1_conv2 (Conv2D)       (None, 224, 224, 64)      36928     \n",
      "                                                                 \n",
      " block1_pool (MaxPooling2D)  (None, 112, 112, 64)      0         \n",
      "                                                                 \n",
      " block2_conv1 (Conv2D)       (None, 112, 112, 128)     73856     \n",
      "                                                                 \n",
      " block2_conv2 (Conv2D)       (None, 112, 112, 128)     147584    \n",
      "                                                                 \n",
      " block2_pool (MaxPooling2D)  (None, 56, 56, 128)       0         \n",
      "                                                                 \n",
      " block3_conv1 (Conv2D)       (None, 56, 56, 256)       295168    \n",
      "                                                                 \n",
      " block3_conv2 (Conv2D)       (None, 56, 56, 256)       590080    \n",
      "                                                                 \n",
      " block3_conv3 (Conv2D)       (None, 56, 56, 256)       590080    \n",
      "                                                                 \n",
      " block3_pool (MaxPooling2D)  (None, 28, 28, 256)       0         \n",
      "                                                                 \n",
      " block4_conv1 (Conv2D)       (None, 28, 28, 512)       1180160   \n",
      "                                                                 \n",
      " block4_conv2 (Conv2D)       (None, 28, 28, 512)       2359808   \n",
      "                                                                 \n",
      " block4_conv3 (Conv2D)       (None, 28, 28, 512)       2359808   \n",
      "                                                                 \n",
      " block4_pool (MaxPooling2D)  (None, 14, 14, 512)       0         \n",
      "                                                                 \n",
      " block5_conv1 (Conv2D)       (None, 14, 14, 512)       2359808   \n",
      "                                                                 \n",
      " block5_conv2 (Conv2D)       (None, 14, 14, 512)       2359808   \n",
      "                                                                 \n",
      " block5_conv3 (Conv2D)       (None, 14, 14, 512)       2359808   \n",
      "                                                                 \n",
      " block5_pool (MaxPooling2D)  (None, 7, 7, 512)         0         \n",
      "                                                                 \n",
      "=================================================================\n",
      "Total params: 14,714,688\n",
      "Trainable params: 14,714,688\n",
      "Non-trainable params: 0\n",
      "_________________________________________________________________\n"
     ]
    }
   ],
   "source": [
    "vgg16_places_model = vgg16.VGG16(weights = weights_path , include_top=False, input_shape = (224, 224, 3))\n",
    "vgg16_places_model.summary()"
   ]
  },
  {
   "cell_type": "code",
   "execution_count": 59,
   "id": "d0a00076",
   "metadata": {},
   "outputs": [
    {
     "name": "stdout",
     "output_type": "stream",
     "text": [
      "Model: \"vgg16\"\n",
      "_________________________________________________________________\n",
      " Layer (type)                Output Shape              Param #   \n",
      "=================================================================\n",
      " input_9 (InputLayer)        [(None, 224, 224, 3)]     0         \n",
      "                                                                 \n",
      " block1_conv1 (Conv2D)       (None, 224, 224, 64)      1792      \n",
      "                                                                 \n",
      " block1_conv2 (Conv2D)       (None, 224, 224, 64)      36928     \n",
      "                                                                 \n",
      " block1_pool (MaxPooling2D)  (None, 112, 112, 64)      0         \n",
      "                                                                 \n",
      " block2_conv1 (Conv2D)       (None, 112, 112, 128)     73856     \n",
      "                                                                 \n",
      " block2_conv2 (Conv2D)       (None, 112, 112, 128)     147584    \n",
      "                                                                 \n",
      " block2_pool (MaxPooling2D)  (None, 56, 56, 128)       0         \n",
      "                                                                 \n",
      " block3_conv1 (Conv2D)       (None, 56, 56, 256)       295168    \n",
      "                                                                 \n",
      " block3_conv2 (Conv2D)       (None, 56, 56, 256)       590080    \n",
      "                                                                 \n",
      " block3_conv3 (Conv2D)       (None, 56, 56, 256)       590080    \n",
      "                                                                 \n",
      " block3_pool (MaxPooling2D)  (None, 28, 28, 256)       0         \n",
      "                                                                 \n",
      " block4_conv1 (Conv2D)       (None, 28, 28, 512)       1180160   \n",
      "                                                                 \n",
      " block4_conv2 (Conv2D)       (None, 28, 28, 512)       2359808   \n",
      "                                                                 \n",
      " block4_conv3 (Conv2D)       (None, 28, 28, 512)       2359808   \n",
      "                                                                 \n",
      " block4_pool (MaxPooling2D)  (None, 14, 14, 512)       0         \n",
      "                                                                 \n",
      " block5_conv1 (Conv2D)       (None, 14, 14, 512)       2359808   \n",
      "                                                                 \n",
      " block5_conv2 (Conv2D)       (None, 14, 14, 512)       2359808   \n",
      "                                                                 \n",
      " block5_conv3 (Conv2D)       (None, 14, 14, 512)       2359808   \n",
      "                                                                 \n",
      " block5_pool (MaxPooling2D)  (None, 7, 7, 512)         0         \n",
      "                                                                 \n",
      "=================================================================\n",
      "Total params: 14,714,688\n",
      "Trainable params: 0\n",
      "Non-trainable params: 14,714,688\n",
      "_________________________________________________________________\n"
     ]
    }
   ],
   "source": [
    "# iterate through its layers and lock them to make them not trainable with this code\n",
    "for layer in vgg16_places_model.layers:\n",
    "    layer.trainable = False\n",
    "\n",
    "#if fine_tune es decir cuantas capas quieres reentrenar\n",
    "# for layer in base_model.layers[:-fine_tune]:\n",
    "# layer.traineble = False\n",
    "\n",
    "vgg16_places_model.summary()"
   ]
  },
  {
   "cell_type": "code",
   "execution_count": 60,
   "id": "c532a8a4",
   "metadata": {},
   "outputs": [
    {
     "name": "stdout",
     "output_type": "stream",
     "text": [
      "Model: \"model_4\"\n",
      "_________________________________________________________________\n",
      " Layer (type)                Output Shape              Param #   \n",
      "=================================================================\n",
      " input_9 (InputLayer)        [(None, 224, 224, 3)]     0         \n",
      "                                                                 \n",
      " block1_conv1 (Conv2D)       (None, 224, 224, 64)      1792      \n",
      "                                                                 \n",
      " block1_conv2 (Conv2D)       (None, 224, 224, 64)      36928     \n",
      "                                                                 \n",
      " block1_pool (MaxPooling2D)  (None, 112, 112, 64)      0         \n",
      "                                                                 \n",
      " block2_conv1 (Conv2D)       (None, 112, 112, 128)     73856     \n",
      "                                                                 \n",
      " block2_conv2 (Conv2D)       (None, 112, 112, 128)     147584    \n",
      "                                                                 \n",
      " block2_pool (MaxPooling2D)  (None, 56, 56, 128)       0         \n",
      "                                                                 \n",
      " block3_conv1 (Conv2D)       (None, 56, 56, 256)       295168    \n",
      "                                                                 \n",
      " block3_conv2 (Conv2D)       (None, 56, 56, 256)       590080    \n",
      "                                                                 \n",
      " block3_conv3 (Conv2D)       (None, 56, 56, 256)       590080    \n",
      "                                                                 \n",
      " block3_pool (MaxPooling2D)  (None, 28, 28, 256)       0         \n",
      "                                                                 \n",
      " block4_conv1 (Conv2D)       (None, 28, 28, 512)       1180160   \n",
      "                                                                 \n",
      " block4_conv2 (Conv2D)       (None, 28, 28, 512)       2359808   \n",
      "                                                                 \n",
      " block4_conv3 (Conv2D)       (None, 28, 28, 512)       2359808   \n",
      "                                                                 \n",
      " block4_pool (MaxPooling2D)  (None, 14, 14, 512)       0         \n",
      "                                                                 \n",
      " block5_conv1 (Conv2D)       (None, 14, 14, 512)       2359808   \n",
      "                                                                 \n",
      " block5_conv2 (Conv2D)       (None, 14, 14, 512)       2359808   \n",
      "                                                                 \n",
      " block5_conv3 (Conv2D)       (None, 14, 14, 512)       2359808   \n",
      "                                                                 \n",
      " block5_pool (MaxPooling2D)  (None, 7, 7, 512)         0         \n",
      "                                                                 \n",
      " flatten (Flatten)           (None, 25088)             0         \n",
      "                                                                 \n",
      " softmax (Dense)             (None, 6)                 150534    \n",
      "                                                                 \n",
      "=================================================================\n",
      "Total params: 14,865,222\n",
      "Trainable params: 150,534\n",
      "Non-trainable params: 14,714,688\n",
      "_________________________________________________________________\n"
     ]
    }
   ],
   "source": [
    "from tensorflow.keras.layers import Dense, Flatten, Dropout, BatchNormalization\n",
    "from tensorflow.keras.models import Model\n",
    "\n",
    "# save the output of the last layer to be the input of the next layer\n",
    "last_layer = vgg16_places_model.output\n",
    "\n",
    "# flatten the classifier input which is output of the last layer of VGG16 model\n",
    "x = Flatten(name=\"flatten\")(last_layer)\n",
    "#x = Dense(50, activation='relu')(x)\n",
    "#x = Dense(30, activation='relu')(x)\n",
    "x = Dense(num_classes, activation='softmax', name='softmax')(x)\n",
    "\n",
    "# instantiate a new_model using keras’s Model class\n",
    "new_vgg16_places_model = Model(inputs=vgg16_places_model.input, outputs=x)\n",
    "\n",
    "# print the new_model summary\n",
    "new_vgg16_places_model.summary()\n"
   ]
  },
  {
   "cell_type": "code",
   "execution_count": null,
   "id": "46604507",
   "metadata": {},
   "outputs": [],
   "source": [
    "new_vgg16_places_model.compile(optimizer='adam', loss='categorical_crossentropy', metrics=['accuracy'])\n",
    "history_vgg16_places = new_vgg16_places_model.fit(train_generator, batch_size=batch_size, validation_data=validation_generator, epochs=100, verbose=2, callbacks=[checkpoint, early_stop])"
   ]
  },
  {
   "cell_type": "code",
   "execution_count": null,
   "id": "a10b02d8",
   "metadata": {},
   "outputs": [],
   "source": [
    "plt.plot(history_vgg16_places.history['accuracy'])\n",
    "plt.plot(history_vgg16_places.history['val_accuracy'])\n",
    "plt.title('VGG16+Places Model accuracy')\n",
    "plt.ylabel('Accuracy')\n",
    "plt.xlabel('Epoch')\n",
    "plt.legend(['Train', 'Test'], loc='upper left')\n",
    "plt.show()\n",
    "\n",
    "plt.plot(history_vgg16_places.history['loss'])\n",
    "plt.plot(history_vgg16_places.history['val_loss'])\n",
    "plt.title('VGG16+Places Model loss')\n",
    "plt.ylabel('Loss')\n",
    "plt.xlabel('Epoch')\n",
    "plt.legend(['Train', 'Test'], loc='upper left')\n",
    "plt.show()"
   ]
  },
  {
   "cell_type": "code",
   "execution_count": null,
   "id": "e10b5877",
   "metadata": {},
   "outputs": [],
   "source": [
    "x, y = zip(*(validation_generator[i] for i in range(len(validation_generator))))\n",
    "x_test, y_test = np.vstack(x), np.vstack(y)\n",
    "loss, acc = new_vgg16_places_model.evaluate(x_test, y_test, batch_size=32)\n",
    "\n",
    "print(\"Accuracy: \" ,acc)\n",
    "print(\"Loss: \", loss)"
   ]
  },
  {
   "cell_type": "markdown",
   "id": "81881e77",
   "metadata": {},
   "source": [
    "### ResNet152"
   ]
  },
  {
   "cell_type": "code",
   "execution_count": 8,
   "id": "d9128788",
   "metadata": {},
   "outputs": [],
   "source": [
    "weights_path = 'caffemodels/resnet152_keras.h5'"
   ]
  },
  {
   "cell_type": "code",
   "execution_count": 10,
   "id": "00062671",
   "metadata": {},
   "outputs": [
    {
     "ename": "ValueError",
     "evalue": "Weight count mismatch for layer #0 (named conv1_conv in the current model, conv1 in the save file). Layer expects 2 weight(s). Received 1 saved weight(s)",
     "output_type": "error",
     "traceback": [
      "\u001b[0;31m---------------------------------------------------------------------------\u001b[0m",
      "\u001b[0;31mValueError\u001b[0m                                Traceback (most recent call last)",
      "Input \u001b[0;32mIn [10]\u001b[0m, in \u001b[0;36m<cell line: 1>\u001b[0;34m()\u001b[0m\n\u001b[0;32m----> 1\u001b[0m resnet152_model \u001b[38;5;241m=\u001b[39m \u001b[43mResNet152\u001b[49m\u001b[43m(\u001b[49m\u001b[43mweights\u001b[49m\u001b[43m \u001b[49m\u001b[38;5;241;43m=\u001b[39;49m\u001b[43m \u001b[49m\u001b[43mweights_path\u001b[49m\u001b[43m \u001b[49m\u001b[43m,\u001b[49m\u001b[43m \u001b[49m\u001b[43minclude_top\u001b[49m\u001b[38;5;241;43m=\u001b[39;49m\u001b[38;5;28;43;01mTrue\u001b[39;49;00m\u001b[43m,\u001b[49m\u001b[43m \u001b[49m\u001b[43minput_shape\u001b[49m\u001b[43m \u001b[49m\u001b[38;5;241;43m=\u001b[39;49m\u001b[43m \u001b[49m\u001b[43m(\u001b[49m\u001b[38;5;241;43m224\u001b[39;49m\u001b[43m,\u001b[49m\u001b[43m \u001b[49m\u001b[38;5;241;43m224\u001b[39;49m\u001b[43m,\u001b[49m\u001b[43m \u001b[49m\u001b[38;5;241;43m3\u001b[39;49m\u001b[43m)\u001b[49m\u001b[43m)\u001b[49m\n\u001b[1;32m      2\u001b[0m resnet152_model\u001b[38;5;241m.\u001b[39msummary()\n",
      "File \u001b[0;32m~/tfm_env/tfm_env/lib/python3.8/site-packages/keras/applications/resnet.py:500\u001b[0m, in \u001b[0;36mResNet152\u001b[0;34m(include_top, weights, input_tensor, input_shape, pooling, classes, **kwargs)\u001b[0m\n\u001b[1;32m    497\u001b[0m   x \u001b[38;5;241m=\u001b[39m stack1(x, \u001b[38;5;241m256\u001b[39m, \u001b[38;5;241m36\u001b[39m, name\u001b[38;5;241m=\u001b[39m\u001b[38;5;124m'\u001b[39m\u001b[38;5;124mconv4\u001b[39m\u001b[38;5;124m'\u001b[39m)\n\u001b[1;32m    498\u001b[0m   \u001b[38;5;28;01mreturn\u001b[39;00m stack1(x, \u001b[38;5;241m512\u001b[39m, \u001b[38;5;241m3\u001b[39m, name\u001b[38;5;241m=\u001b[39m\u001b[38;5;124m'\u001b[39m\u001b[38;5;124mconv5\u001b[39m\u001b[38;5;124m'\u001b[39m)\n\u001b[0;32m--> 500\u001b[0m \u001b[38;5;28;01mreturn\u001b[39;00m \u001b[43mResNet\u001b[49m\u001b[43m(\u001b[49m\u001b[43mstack_fn\u001b[49m\u001b[43m,\u001b[49m\u001b[43m \u001b[49m\u001b[38;5;28;43;01mFalse\u001b[39;49;00m\u001b[43m,\u001b[49m\u001b[43m \u001b[49m\u001b[38;5;28;43;01mTrue\u001b[39;49;00m\u001b[43m,\u001b[49m\u001b[43m \u001b[49m\u001b[38;5;124;43m'\u001b[39;49m\u001b[38;5;124;43mresnet152\u001b[39;49m\u001b[38;5;124;43m'\u001b[39;49m\u001b[43m,\u001b[49m\u001b[43m \u001b[49m\u001b[43minclude_top\u001b[49m\u001b[43m,\u001b[49m\u001b[43m \u001b[49m\u001b[43mweights\u001b[49m\u001b[43m,\u001b[49m\n\u001b[1;32m    501\u001b[0m \u001b[43m              \u001b[49m\u001b[43minput_tensor\u001b[49m\u001b[43m,\u001b[49m\u001b[43m \u001b[49m\u001b[43minput_shape\u001b[49m\u001b[43m,\u001b[49m\u001b[43m \u001b[49m\u001b[43mpooling\u001b[49m\u001b[43m,\u001b[49m\u001b[43m \u001b[49m\u001b[43mclasses\u001b[49m\u001b[43m,\u001b[49m\u001b[43m \u001b[49m\u001b[38;5;241;43m*\u001b[39;49m\u001b[38;5;241;43m*\u001b[39;49m\u001b[43mkwargs\u001b[49m\u001b[43m)\u001b[49m\n",
      "File \u001b[0;32m~/tfm_env/tfm_env/lib/python3.8/site-packages/keras/applications/resnet.py:208\u001b[0m, in \u001b[0;36mResNet\u001b[0;34m(stack_fn, preact, use_bias, model_name, include_top, weights, input_tensor, input_shape, pooling, classes, classifier_activation, **kwargs)\u001b[0m\n\u001b[1;32m    206\u001b[0m   model\u001b[38;5;241m.\u001b[39mload_weights(weights_path)\n\u001b[1;32m    207\u001b[0m \u001b[38;5;28;01melif\u001b[39;00m weights \u001b[38;5;129;01mis\u001b[39;00m \u001b[38;5;129;01mnot\u001b[39;00m \u001b[38;5;28;01mNone\u001b[39;00m:\n\u001b[0;32m--> 208\u001b[0m   \u001b[43mmodel\u001b[49m\u001b[38;5;241;43m.\u001b[39;49m\u001b[43mload_weights\u001b[49m\u001b[43m(\u001b[49m\u001b[43mweights\u001b[49m\u001b[43m)\u001b[49m\n\u001b[1;32m    210\u001b[0m \u001b[38;5;28;01mreturn\u001b[39;00m model\n",
      "File \u001b[0;32m~/tfm_env/tfm_env/lib/python3.8/site-packages/keras/utils/traceback_utils.py:67\u001b[0m, in \u001b[0;36mfilter_traceback.<locals>.error_handler\u001b[0;34m(*args, **kwargs)\u001b[0m\n\u001b[1;32m     65\u001b[0m \u001b[38;5;28;01mexcept\u001b[39;00m \u001b[38;5;167;01mException\u001b[39;00m \u001b[38;5;28;01mas\u001b[39;00m e:  \u001b[38;5;66;03m# pylint: disable=broad-except\u001b[39;00m\n\u001b[1;32m     66\u001b[0m   filtered_tb \u001b[38;5;241m=\u001b[39m _process_traceback_frames(e\u001b[38;5;241m.\u001b[39m__traceback__)\n\u001b[0;32m---> 67\u001b[0m   \u001b[38;5;28;01mraise\u001b[39;00m e\u001b[38;5;241m.\u001b[39mwith_traceback(filtered_tb) \u001b[38;5;28;01mfrom\u001b[39;00m \u001b[38;5;28mNone\u001b[39m\n\u001b[1;32m     68\u001b[0m \u001b[38;5;28;01mfinally\u001b[39;00m:\n\u001b[1;32m     69\u001b[0m   \u001b[38;5;28;01mdel\u001b[39;00m filtered_tb\n",
      "File \u001b[0;32m~/tfm_env/tfm_env/lib/python3.8/site-packages/keras/saving/hdf5_format.py:745\u001b[0m, in \u001b[0;36mload_weights_from_hdf5_group\u001b[0;34m(f, model)\u001b[0m\n\u001b[1;32m    741\u001b[0m   weight_values \u001b[38;5;241m=\u001b[39m preprocess_weights_for_loading(layer, weight_values,\n\u001b[1;32m    742\u001b[0m                                                  original_keras_version,\n\u001b[1;32m    743\u001b[0m                                                  original_backend)\n\u001b[1;32m    744\u001b[0m   \u001b[38;5;28;01mif\u001b[39;00m \u001b[38;5;28mlen\u001b[39m(weight_values) \u001b[38;5;241m!=\u001b[39m \u001b[38;5;28mlen\u001b[39m(symbolic_weights):\n\u001b[0;32m--> 745\u001b[0m     \u001b[38;5;28;01mraise\u001b[39;00m \u001b[38;5;167;01mValueError\u001b[39;00m(\n\u001b[1;32m    746\u001b[0m         \u001b[38;5;124mf\u001b[39m\u001b[38;5;124m'\u001b[39m\u001b[38;5;124mWeight count mismatch for layer #\u001b[39m\u001b[38;5;132;01m{\u001b[39;00mk\u001b[38;5;132;01m}\u001b[39;00m\u001b[38;5;124m (named \u001b[39m\u001b[38;5;132;01m{\u001b[39;00mlayer\u001b[38;5;241m.\u001b[39mname\u001b[38;5;132;01m}\u001b[39;00m\u001b[38;5;124m in the \u001b[39m\u001b[38;5;124m'\u001b[39m\n\u001b[1;32m    747\u001b[0m         \u001b[38;5;124mf\u001b[39m\u001b[38;5;124m'\u001b[39m\u001b[38;5;124mcurrent model, \u001b[39m\u001b[38;5;132;01m{\u001b[39;00mname\u001b[38;5;132;01m}\u001b[39;00m\u001b[38;5;124m in the save file). \u001b[39m\u001b[38;5;124m'\u001b[39m\n\u001b[1;32m    748\u001b[0m         \u001b[38;5;124mf\u001b[39m\u001b[38;5;124m'\u001b[39m\u001b[38;5;124mLayer expects \u001b[39m\u001b[38;5;132;01m{\u001b[39;00m\u001b[38;5;28mlen\u001b[39m(symbolic_weights)\u001b[38;5;132;01m}\u001b[39;00m\u001b[38;5;124m weight(s). Received \u001b[39m\u001b[38;5;124m'\u001b[39m\n\u001b[1;32m    749\u001b[0m         \u001b[38;5;124mf\u001b[39m\u001b[38;5;124m'\u001b[39m\u001b[38;5;132;01m{\u001b[39;00m\u001b[38;5;28mlen\u001b[39m(weight_values)\u001b[38;5;132;01m}\u001b[39;00m\u001b[38;5;124m saved weight(s)\u001b[39m\u001b[38;5;124m'\u001b[39m)\n\u001b[1;32m    750\u001b[0m   weight_value_tuples \u001b[38;5;241m+\u001b[39m\u001b[38;5;241m=\u001b[39m \u001b[38;5;28mzip\u001b[39m(symbolic_weights, weight_values)\n\u001b[1;32m    752\u001b[0m \u001b[38;5;28;01mif\u001b[39;00m \u001b[38;5;124m'\u001b[39m\u001b[38;5;124mtop_level_model_weights\u001b[39m\u001b[38;5;124m'\u001b[39m \u001b[38;5;129;01min\u001b[39;00m f:\n",
      "\u001b[0;31mValueError\u001b[0m: Weight count mismatch for layer #0 (named conv1_conv in the current model, conv1 in the save file). Layer expects 2 weight(s). Received 1 saved weight(s)"
     ]
    }
   ],
   "source": [
    "resnet152_model = ResNet152(weights = weights_path , include_top=True, input_shape = (224, 224, 3))\n",
    "resnet152_model.summary()"
   ]
  },
  {
   "cell_type": "markdown",
   "id": "713b4093",
   "metadata": {},
   "source": [
    "### InceptionV3"
   ]
  },
  {
   "cell_type": "markdown",
   "id": "8bce457a",
   "metadata": {},
   "source": [
    "### MobileNet"
   ]
  },
  {
   "cell_type": "code",
   "execution_count": null,
   "id": "67913a96",
   "metadata": {},
   "outputs": [],
   "source": []
  }
 ],
 "metadata": {
  "kernelspec": {
   "display_name": "Python 3 (ipykernel)",
   "language": "python",
   "name": "python3"
  },
  "language_info": {
   "codemirror_mode": {
    "name": "ipython",
    "version": 3
   },
   "file_extension": ".py",
   "mimetype": "text/x-python",
   "name": "python",
   "nbconvert_exporter": "python",
   "pygments_lexer": "ipython3",
   "version": "3.8.10"
  }
 },
 "nbformat": 4,
 "nbformat_minor": 5
}
